{
 "cells": [
  {
   "cell_type": "code",
   "execution_count": 7,
   "metadata": {},
   "outputs": [],
   "source": [
    "\n",
    "pantry = {'pasta': 3, 'garlic': 4,'sauce': 2,\n",
    "          'basil': 2, 'salt': 3, 'olive oil': 3,\n",
    "          'rice': 3, 'bread': 3, 'peanut butter': 1,\n",
    "          'flour': 1, 'eggs': 1, 'onions': 1, 'mushrooms': 3,\n",
    "          'broccoli': 2, 'butter': 2,'pickles': 6, 'milk': 2,\n",
    "          'chia seeds': 5}\n",
    "\n",
    "meal_recipe = {'pasta': 2, 'garlic': 2, 'sauce': 3,\n",
    "          'basil': 4, 'salt': 1, 'pepper': 2,\n",
    "          'olive oil': 2, 'onions': 2, 'mushrooms': 6}\n"
   ]
  },
  {
   "cell_type": "code",
   "execution_count": 3,
   "metadata": {},
   "outputs": [
    {
     "name": "stdout",
     "output_type": "stream",
     "text": [
      "{'pasta': 3, 'garlic': 4, 'sauce': 2, 'basil': 2, 'salt': 3, 'olive oil': 3, 'rice': 3, 'bread': 3, 'peanut butter': 1, 'flour': 1, 'eggs': 1, 'onions': 1, 'mushrooms': 3, 'broccoli': 2, 'butter': 2, 'pickles': 6, 'milk': 2, 'chia seeds': 5}\n"
     ]
    }
   ],
   "source": [
    "print(pantry)"
   ]
  },
  {
   "cell_type": "code",
   "execution_count": 8,
   "metadata": {},
   "outputs": [
    {
     "name": "stdout",
     "output_type": "stream",
     "text": [
      "{'sauce': 1, 'basil': 2, 'onions': 1, 'mushrooms': 3}\n"
     ]
    }
   ],
   "source": [
    "# first way to solve with nested if \n",
    "d={}\n",
    "for x in pantry: \n",
    "    for y in meal_recipe:\n",
    "        if x == y:\n",
    "            if pantry[x] < meal_recipe[y]:\n",
    "                d[x]=meal_recipe[y]-pantry[x]\n",
    "            else:\n",
    "                pass\n",
    "        else :\n",
    "            pass\n",
    "shopping_list= dict(d)\n",
    "print(shopping_list)"
   ]
  },
  {
   "cell_type": "code",
   "execution_count": 26,
   "metadata": {},
   "outputs": [
    {
     "name": "stdout",
     "output_type": "stream",
     "text": [
      "{'sauce': 1, 'basil': 2, 'onions': 1, 'mushrooms': 3}\n"
     ]
    }
   ],
   "source": [
    "# Second to solve with 'And' operator\n",
    "d={}\n",
    "for x in pantry: \n",
    "    for y in meal_recipe:\n",
    "        if x == y and pantry[x] < meal_recipe[y]:\n",
    "                d[x]=meal_recipe[y]-pantry[x]\n",
    "        else: pass\n",
    "shopping_list= dict(d)\n",
    "print(shopping_list)"
   ]
  },
  {
   "cell_type": "code",
   "execution_count": null,
   "metadata": {},
   "outputs": [],
   "source": []
  }
 ],
 "metadata": {
  "kernelspec": {
   "display_name": "Python 3",
   "language": "python",
   "name": "python3"
  },
  "language_info": {
   "codemirror_mode": {
    "name": "ipython",
    "version": 3
   },
   "file_extension": ".py",
   "mimetype": "text/x-python",
   "name": "python",
   "nbconvert_exporter": "python",
   "pygments_lexer": "ipython3",
   "version": "3.7.3"
  }
 },
 "nbformat": 4,
 "nbformat_minor": 4
}
